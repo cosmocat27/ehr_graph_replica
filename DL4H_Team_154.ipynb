{
  "nbformat": 4,
  "nbformat_minor": 0,
  "metadata": {
    "colab": {
      "provenance": []
    },
    "kernelspec": {
      "name": "python3",
      "display_name": "Python 3"
    },
    "language_info": {
      "name": "python"
    }
  },
  "cells": [
    {
      "cell_type": "markdown",
      "source": [
        "# DL4H Final Project\n",
        "\n",
        "## Graph Representation Learning for Familial Relationships\n",
        "\n",
        "[Link to Github with notebook](https://github.com/cosmocat27/ehr_graph_replica/tree/main)\n",
        "\n",
        "[Link to presentation video](https://mediaspace.illinois.edu/media/t/1_0alp2wex)\n",
        "\n",
        "[Link to original paper](https://arxiv.org/pdf/2304.05010.pdf)\n",
        "\n",
        "[Link to original Github](https://github.com/dsgelab/family-EHR-graphs)\n",
        "\n",
        "(This notebook should be run in a python colab environment so that the setup works as expected)\n",
        "\n",
        "---"
      ],
      "metadata": {
        "id": "AOtc5h5Q1fBL"
      }
    },
    {
      "cell_type": "markdown",
      "source": [
        "# Introduction\n",
        "\n",
        "## Background of the problem\n",
        "\n",
        "The general problem is that of using family medical history to predict disease. Solving this problem would mean more accurate prediction and understanding of certain heritable diseases, leading to more useful medical interventions. Family history is a well-established indicator of health risks, but its assessment is often\n",
        "complicated by the interactions of genetic, environmental, and lifestyle factors. The wide\n",
        "availability of EHR presents opportunities for deep learning to learn complex representations of\n",
        "patient data that would be useful in clinical prediction.\n",
        "\n",
        "Various methods have been used to model family history and heriditary disease, including polygenic risk scoring methods and BLUP, but these approaches are limited by data availability such as genetic data. Alternatively, there are clinical baselines that use rule-based and MLP approaches that do not consider graphical information, but do not perform as well as graph based approaches.\n",
        "\n",
        "## Paper explanation\n",
        "\n",
        "This paper formulates disease risk prediction from family history as a graph modeling problem, and uses graph-based deep learning and LSTMs to learn supervised representations of the family history. It’s shown that the approach can predict 10-year disease risk better than the baseline approaches, based on AUC-ROC/PRC. Furthermore, graph explainability techniques can be used to identify specific features of the family history that are useful for disease prediction.\n",
        "\n",
        "The paper did a good job of contributing a novel graph-based method to the research regime and improving on existing performance, and it advances the state of the art on using deep learning to model heritable disease risk."
      ],
      "metadata": {
        "id": "MQ0sNuMePBXx"
      }
    },
    {
      "cell_type": "markdown",
      "source": [
        "# Scope of Reproducibility:\n",
        "\n",
        "## Hypotheses and corresponding experiments\n",
        "\n",
        "\n",
        "1.   Hypothesis 1: The graph neural network based model provides better performance in predicting 10 year disease onset of certain diseases (adult asthma, colorectal cancer, coronary heart disease, depression and suicide, and type two diabetes), compared to the baseline (rule-based or static MLP). To test this, we will run the full GNN model and compare the AUC-ROC/PRC results with the baseline models.\n",
        "2.   Hypothesis 2: Features for family history provide incremental predictive value when used in a graph neural network to classify a patient’s development of disease within 10 years. To test this, we will run the ablation studies proposed in the paper, which incrementally add family history and graph connectivity features to a baseline model to understand their incremental value."
      ],
      "metadata": {
        "id": "uygL9tTPSVHB"
      }
    },
    {
      "cell_type": "markdown",
      "source": [
        "# Methodology"
      ],
      "metadata": {
        "id": "xWAHJ_1CdtaA"
      }
    },
    {
      "cell_type": "markdown",
      "source": [
        "## Setup (Environvment)\n",
        "\n",
        "This notebook runs on Python 3.10.12."
      ],
      "metadata": {
        "id": "NXyVn2wdWCBe"
      }
    },
    {
      "cell_type": "code",
      "source": [
        "# import files from Github, and install dependencies\n",
        "!git clone https://github.com/dsgelab/family-EHR-graphs.git\n",
        "!git clone https://github.com/cosmocat27/ehr_graph_replica.git\n",
        "!pip install torch_geometric\n",
        "!mkdir results\n",
        "\n",
        "import sys\n",
        "sys.path.append('/content/family-EHR-graphs/src')\n",
        "\n",
        "### Optional data generation step. The synthetic dataset has been uploaded to Github.\n",
        "#import os\n",
        "#os.environ['LD_LIBRARY_PATH'] = os.environ.get(\"LD_LIBRARY_PATH\") + \":/content/gsl-2.7/.libs\"\n",
        "\n",
        "#!wget \"https://ftp.gnu.org/gnu/gsl/gsl-2.7.tar.gz\" && tar -xvzf gsl-2.7.tar.gz\n",
        "#!cd gsl-2.7 && ./configure && make && make install\n",
        "#!gcc \"/content/drive/My Drive/project/SimPedPheno_V1.1.c\" -o PhenoPedSim -Lgsl_lib_directory -Igsl_include_directory -lm -lgsl -fPIC -lcblas -lblas\n",
        "#!./PhenoPedSim \"/content/drive/My Drive/project/syn_data_params_1.txt\" 1000"
      ],
      "metadata": {
        "id": "sfk8Zrul_E8V"
      },
      "execution_count": null,
      "outputs": []
    },
    {
      "cell_type": "code",
      "source": [
        "# import packages you need\n",
        "import argparse\n",
        "import torch\n",
        "import numpy as np\n",
        "import time\n",
        "import pandas as pd\n",
        "import matplotlib.pyplot as plt\n",
        "from data import DataFetch, Data, GraphData\n",
        "from torch_geometric.loader import DataLoader\n",
        "from model import Baseline, BaselineLongitudinal, GNN, GNNLongitudinal, GNNExplainabilityLSTM\n",
        "from sklearn import metrics\n",
        "from sklearn.metrics import matthews_corrcoef\n",
        "from sklearn.metrics import confusion_matrix\n",
        "from tqdm import tqdm\n",
        "from utils import EarlyStopping, get_classification_threshold_auc, get_classification_threshold_precision_recall, WeightedBCELoss\n",
        "import explainability\n",
        "import json\n",
        "\n",
        "from main import *\n",
        "\n",
        "# set the seed\n",
        "seed = 1000\n",
        "np.random.seed(seed)\n",
        "torch.manual_seed(seed)"
      ],
      "metadata": {
        "id": "yu61Jp1xrnKk"
      },
      "execution_count": null,
      "outputs": []
    },
    {
      "cell_type": "code",
      "source": [
        "# setup the params to be used for the first experiment\n",
        "\n",
        "sqlpath = 'long.db'\n",
        "params = {'model_type':'graph',\n",
        "        'gnn_layer':'graphconv',\n",
        "        'pooling_method':'target',\n",
        "        'outpath':'results',\n",
        "        'outname':'G2_TestDisease',\n",
        "        'obs_window_start':1990,\n",
        "        'obs_window_end':2010,\n",
        "        'batchsize':250,\n",
        "        'num_workers':6,\n",
        "        'max_epochs':100,\n",
        "        'patience':8,\n",
        "        'learning_rate':0.001,\n",
        "        'main_hidden_dim':20,\n",
        "        'lstm_hidden_dim':20,\n",
        "        'loss':'bce_weighted_sum',\n",
        "        'gamma':1,\n",
        "        'alpha':1,\n",
        "        'beta':1,\n",
        "        'delta':1,\n",
        "        'dropout_rate':0.5,\n",
        "        'threshold_opt':'precision_recall',\n",
        "        'ratio':0.5,\n",
        "        'local_test':True,\n",
        "        'explainability_mode':False,\n",
        "        'embeddings_mode':False,\n",
        "        'explainer_input':'',\n",
        "        'device_specification':'na',\n",
        "        'num_positive_samples':5000}\n",
        "\n",
        "if params['device_specification'] != 'na':\n",
        "    params['device'] = torch.device(params['device_specification'])\n",
        "else:\n",
        "    params['device'] = torch.device('cuda' if torch.cuda.is_available() else 'cpu')\n",
        "\n",
        "print(\"Using {} device\".format(params['device']))"
      ],
      "metadata": {
        "id": "dqprk6SXLoyo",
        "colab": {
          "base_uri": "https://localhost:8080/"
        },
        "outputId": "f304906c-bbd9-4254-db43-193210692e9b"
      },
      "execution_count": 16,
      "outputs": [
        {
          "output_type": "stream",
          "name": "stdout",
          "text": [
            "Using cpu device\n"
          ]
        }
      ]
    },
    {
      "cell_type": "markdown",
      "source": [
        "##  Data\n",
        "### Data description and download instructions\n",
        "\n",
        "The experiments in the paper use a nationwide health registry dataset, which cannot be publicly\n",
        "shared for data privacy reasons. Instead, the authors have provided code and instructions for\n",
        "generating synthetic datasets that mimic the real dataset. I am using the synthetic dataset provided with the code at https://github.com/dsgelab/family-EHR-graphs/tree/main/test.\n",
        "\n",
        "The data consist of 4 different file types:\n",
        "\n",
        "**Maskfile**: Specifies which samples belong to the target cohort (patients to predict health outcomes for) and which samples belong to the graph cohort (relatives of the target patients). This file also specifies the train, validation and test split for the dataset.\n",
        "\n",
        "**Statfile**: Contains the (static node) feature dataset for all samples in both the target and graph cohorts. This file also contains the data for the label being predicted for the binary classification task.\n",
        "\n",
        "**Edgefile**: Contains the edge pairs for the family graphs, where each patient in the target cohort has a separate family graph. This file also contains the data for the edge features.\n",
        "\n",
        "**Featfile**: Specifies which features to use for training the model, for 4 types of features: static, longitudinal, label and edge."
      ],
      "metadata": {
        "id": "2NbPHUTMbkD3"
      }
    },
    {
      "cell_type": "code",
      "source": [
        "# dir and function to load the raw data\n",
        "raw_data_dir = 'family-EHR-graphs/test/'\n",
        "maskfile_path = raw_data_dir + 'Gen3_50k_0.7_142857_maskfile.csv'\n",
        "statfile_path = raw_data_dir + 'Gen3_50k_0.7_142857_statfile.csv'\n",
        "edgefile_path = raw_data_dir + 'Gen3_50k_0.7_142857_edgefile.csv'\n",
        "\n",
        "def load_raw_data(maskfile_path, statfile_path, edgefile_path):\n",
        "  masks = pd.read_csv(maskfile_path)\n",
        "  stats = pd.read_csv(statfile_path)\n",
        "  edges = pd.read_csv(edgefile_path)\n",
        "  return masks, stats, edges\n",
        "\n",
        "masks, stats, edges = load_raw_data(maskfile_path, statfile_path, edgefile_path)\n",
        "\n",
        "filepaths = {'maskfile':maskfile_path,\n",
        "            'featfile':raw_data_dir + 'featfiles/featfile_G2.csv',\n",
        "            'alt_featfile':raw_data_dir + 'featfiles/featfile_A5.csv',\n",
        "            'statfile':statfile_path,\n",
        "            'edgefile':edgefile_path}"
      ],
      "metadata": {
        "id": "0Tcqek0ql1pr"
      },
      "execution_count": 17,
      "outputs": []
    },
    {
      "cell_type": "markdown",
      "source": [
        "### Statistics with visualizations\n",
        "\n",
        "**Size:**\n",
        "\n",
        "* Maskfile: 150k rows, 5 columns\n",
        "* Statfile: 150k rows, 33 columns\n",
        "* Edgefile: 1.1M rows, 14 columns\n",
        "* Featfile: Depends on the model, but only a few rows specifying the features.\n",
        "\n",
        "**Label distribution:**\n",
        "\n",
        "150k total patients\n",
        "\n",
        "Target population (patients): 4357 positive, 34940 negative\n",
        "\n",
        "Non-target population (relatives): 57763 positive, 52940 negative\n",
        "\n",
        "**Cross validation split:**\n",
        "\n",
        "Out of 39k target patients\n",
        "\n",
        "28k train, 4k validation, 8k test\n",
        "\n",
        "**Figure 1: Graph of an example patient**\n",
        "\n",
        "![graph_viz.png](https://drive.google.com/uc?export=view&id=1Dre0B39ofm9d2HeRRAVjvDfqgzfYdCUQ)"
      ],
      "metadata": {
        "id": "DrITplYrrGp7"
      }
    },
    {
      "cell_type": "code",
      "source": [
        "# calculate statistics\n",
        "def calculate_stats(masks, stats, edges):\n",
        "  n_rows, n_columns = masks.shape\n",
        "  print(\"Maskfile size: {} rows, {} columns\".format(n_rows, n_columns))\n",
        "  n_rows, n_columns = stats.shape\n",
        "  print(\"Statfile size: {} rows, {} columns\".format(n_rows, n_columns))\n",
        "  n_rows, n_columns = edges.shape\n",
        "  print(\"Edgefile size: {} rows, {} columns\".format(n_rows, n_columns))\n",
        "\n",
        "  target_pos, target_neg = stats[masks['target']==1].EndPtStat.value_counts().sort_index().values\n",
        "  print(\"Target population: {} positive, {} negative\".format(target_pos, target_neg))\n",
        "  nontarget_pos, nontarget_neg = stats[masks['target']==0].EndPtStat.value_counts().sort_index().values\n",
        "  print(\"Non-target population: {} positive, {} negative\".format(nontarget_pos, nontarget_neg))\n",
        "  nontarget, train, valid, test = masks.train.value_counts().sort_index().values\n",
        "  print(\"Cross validation split: {} train, {} validation, {} test\".format(train, valid, test))\n",
        "  print()\n",
        "  return None\n",
        "\n",
        "calculate_stats(masks, stats, edges)\n",
        "\n",
        "edges.target_patient.value_counts().hist(bins=20)\n",
        "plt.xlabel(\"number of family connections\")\n",
        "plt.title(\"Figure 2: Distribution of patients by number of family connections\")\n",
        "plt.grid(False)"
      ],
      "metadata": {
        "id": "HH3KiBfoM3bJ",
        "colab": {
          "base_uri": "https://localhost:8080/",
          "height": 593
        },
        "outputId": "2daebcda-f6ac-4589-b211-f52a1bc20754"
      },
      "execution_count": 18,
      "outputs": [
        {
          "output_type": "stream",
          "name": "stdout",
          "text": [
            "Maskfile size: 150000 rows, 5 columns\n",
            "Statfile size: 150000 rows, 33 columns\n",
            "Edgefile size: 1102849 rows, 14 columns\n",
            "Target population: 34940 positive, 4357 negative\n",
            "Non-target population: 57763 positive, 52940 negative\n",
            "Cross validation split: 27565 train, 3872 validation, 7860 test\n",
            "\n"
          ]
        },
        {
          "output_type": "display_data",
          "data": {
            "text/plain": [
              "<Figure size 640x480 with 1 Axes>"
            ],
            "image/png": "[encoded data removed]"
          },
          "metadata": {}
        }
      ]
    },
    {
      "cell_type": "code",
      "source": [
        "edges.relationship.value_counts()[:10].plot(kind=\"bar\")\n",
        "plt.title(\"Figure 3: Most common node-node relationships in the family dataset\")"
      ],
      "metadata": {
        "colab": {
          "base_uri": "https://localhost:8080/",
          "height": 669
        },
        "id": "Io0Frjaxja3W",
        "outputId": "a8553241-b111-4faf-e37e-7e8a82278a21"
      },
      "execution_count": 19,
      "outputs": [
        {
          "output_type": "execute_result",
          "data": {
            "text/plain": [
              "Text(0.5, 1.0, 'Figure 3: Most common node-node relationships in the family dataset')"
            ]
          },
          "metadata": {},
          "execution_count": 19
        },
        {
          "output_type": "display_data",
          "data": {
            "text/plain": [
              "<Figure size 640x480 with 1 Axes>"
            ],
            "image/png": "[encoded data removed]"
          },
          "metadata": {}
        }
      ]
    },
    {
      "cell_type": "markdown",
      "source": [
        "### Data processing\n",
        "\n",
        "Most of the data is processed already via data generation. We use the provided function DataFetch to split the data into train / validation / test sets, then use get_data_and_loader to prepare the datasets for modeling."
      ],
      "metadata": {
        "id": "7IPQ_It-rPaB"
      }
    },
    {
      "cell_type": "code",
      "source": [
        "fetch_data = DataFetch(filepaths['maskfile'], filepaths['featfile'], filepaths['statfile'], filepaths['edgefile'], sqlpath, params, alt_featfile=filepaths['alt_featfile'], local=params['local_test'])\n",
        "\n",
        "train_patient_list = fetch_data.train_patient_list\n",
        "params['num_batches_train'] = int(np.ceil(len(train_patient_list)/params['batchsize']))\n",
        "params['num_samples_train_dataset'] = len(fetch_data.train_patient_list)\n",
        "params['num_samples_train_minority_class'] = fetch_data.num_samples_train_minority_class\n",
        "params['num_samples_train_majority_class'] = fetch_data.num_samples_train_majority_class\n",
        "validate_patient_list = fetch_data.validate_patient_list\n",
        "params['num_batches_validate'] = int(np.ceil(len(validate_patient_list)/params['batchsize']))\n",
        "params['num_samples_valid_dataset'] = len(fetch_data.validate_patient_list)\n",
        "params['num_samples_valid_minority_class'] = fetch_data.num_samples_valid_minority_class\n",
        "params['num_samples_valid_majority_class'] = fetch_data.num_samples_valid_majority_class\n",
        "test_patient_list = fetch_data.test_patient_list\n",
        "params['num_batches_test'] = int(np.ceil(len(test_patient_list)/params['batchsize']))\n",
        "\n",
        "train_dataset, train_loader = get_data_and_loader(train_patient_list, fetch_data, params, shuffle=True)\n",
        "validate_dataset, validate_loader = get_data_and_loader(validate_patient_list, fetch_data, params, shuffle=True)\n",
        "test_dataset, test_loader = get_data_and_loader(test_patient_list, fetch_data, params, shuffle=False)\n",
        "params['include_longitudinal'] = train_dataset.include_longitudinal\n",
        "params['num_features_static'] = len(fetch_data.static_features)\n",
        "if params['model_type'] in ['graph', 'graph_no_target', 'explainability']: params['num_features_alt_static'] = len(fetch_data.alt_static_features)\n",
        "params['num_features_longitudinal'] = len(fetch_data.longitudinal_features)"
      ],
      "metadata": {
        "id": "aiaHp9SdKk2G"
      },
      "execution_count": null,
      "outputs": []
    },
    {
      "cell_type": "markdown",
      "source": [
        "##   Model\n",
        "\n",
        "### Citation of original paper\n",
        "1.   Sophie Wharrie, Zhiyu Yang, Andrea Ganna, Samuel Kaski. (2023). Characterizing personalized\n",
        "effects of family information on disease risk using graph representation learning. Proceedings of\n",
        "the 8th Machine Learning for Healthcare Conference, in Proceedings of Machine Learning\n",
        "Research. 219:824-845. Available from https://arxiv.org/abs/2304.05010.\n",
        "\n",
        "### Link to the original Repo\n",
        "[Link to Github](https://github.com/dsgelab/family-EHR-graphs)\n",
        "\n",
        "--\n",
        "\n",
        "### Model architecture\n",
        "The GNN Longitudinal model is a graph embedding model that consists of two separate paths for family-based data and patient-based data, which get combined into final classification.\n",
        "\n",
        "**Figure 4: Architecture of GNN model (from the paper's Github)**\n",
        "![model_architecture.png](https://drive.google.com/uc?export=view&id=1Bt3MowFOdxNaNwn-aFCj1Pdvc5ITiOxM)\n",
        "\n",
        "The patient part consists of LSTM, Linear, and Dropout layers with ReLU activation.\n",
        "\n",
        "The family part consists of LSTM and graph convolutional layers (with GCN), with ReLU activation.\n",
        "\n",
        "The combined part concatenates the patient and family outputs and passes them through a linear layer and sigmoid activation function to get the final output.\n",
        "\n",
        "### Implemention\n",
        "The implementation of the GNN longitudinal model can be found on [Github](https://github.com/dsgelab/family-EHR-graphs/blob/main/src/model.py#L123).\n",
        "\n",
        "### Pretrained model\n",
        "The pretrained version of the model can be found on [Github](https://github.com/cosmocat27/ehr_graph_replica/blob/main/results_G2/G2_TestDisease_model.pth).\n",
        "\n",
        "The model was trained on the synthetic dataset. We will run 1 iteration of training for demonstration.\n"
      ],
      "metadata": {
        "id": "3muyDPFPbozY"
      }
    },
    {
      "cell_type": "markdown",
      "source": [
        "## Model Training\n",
        "\n",
        "### Training objectives (Hyperparameters)\n",
        "Loss function: WeightedBCELoss (BCELoss with weights adjusted for class imbalance)\n",
        "\n",
        "Optimizer: Adam (with learning rate = 0.001)\n",
        "\n",
        "### Hyperparameters\n",
        "Learning rate: 0.001\n",
        "\n",
        "Batch size: 250\n",
        "\n",
        "Dropout Rate: 0.5\n",
        "\n",
        "Max Epochs: 100 (for the pretrained model)\n",
        "\n",
        "### Computational requirements\n",
        "Hardware: Google Compute Engine (CPU)\n",
        "\n",
        "RAM used: 4.2 GB\n",
        "\n",
        "Disk used: 26.2 GB\n",
        "\n",
        "Average runtime per epoch: 189s\n",
        "\n",
        "Number of training epochs: 41\n",
        "\n",
        "--\n",
        "\n",
        "The function train_model is implemented in the [Github](https://github.com/dsgelab/family-EHR-graphs/blob/main/src/main.py#L47)."
      ],
      "metadata": {
        "id": "l_JwQDtZiNhc"
      }
    },
    {
      "cell_type": "code",
      "source": [
        "model = get_model(params)\n",
        "model_path = '{}/{}_model.pth'.format(params['outpath'], params['outname'])\n",
        "\n",
        "optimizer = torch.optim.Adam(model.parameters(), lr=params['learning_rate'])\n",
        "if params['loss']=='bce_weighted_single' or params['loss']=='bce_weighted_sum':\n",
        "  train_criterion = WeightedBCELoss(params['num_samples_train_dataset'], params['num_samples_train_minority_class'], params['num_samples_train_majority_class'], params['device'])\n",
        "  valid_criterion = WeightedBCELoss(params['num_samples_valid_dataset'], params['num_samples_valid_minority_class'], params['num_samples_valid_majority_class'], params['device'])\n",
        "\n",
        "# normal training model\n",
        "del fetch_data # free up memory no longer needed\n",
        "del train_dataset\n",
        "del validate_dataset\n",
        "del test_dataset\n",
        "\n",
        "# model training (we run 1 epoch just for demonstration)\n",
        "params['max_epochs'] = 1\n",
        "start_time_train = time.time()\n",
        "# train the model for at most max_epochs\n",
        "model, threshold = train_model(model, train_loader, validate_loader, params)\n",
        "end_time_train = time.time()\n",
        "# we will load the pretrained model\n",
        "#torch.save(model.state_dict(), model_path)\n",
        "threshold = 0.639   # threshold determined from training\n",
        "params['threshold'] = threshold\n",
        "params['training_time'] = end_time_train - start_time_train"
      ],
      "metadata": {
        "id": "gBdVZoTvsSFV",
        "colab": {
          "base_uri": "https://localhost:8080/",
          "height": 228
        },
        "outputId": "444f2c2c-9b02-452a-c01a-80bcda6cdf36"
      },
      "execution_count": 25,
      "outputs": [
        {
          "output_type": "stream",
          "name": "stdout",
          "text": [
            "Using graph model with longitudinal data\n",
            "Using GraphConv layers\n",
            "Using BCE weighted loss\n"
          ]
        },
        {
          "output_type": "stream",
          "name": "stderr",
          "text": [
            "\r  0%|          | 0/111 [00:00<?, ?it/s]/usr/lib/python3.10/multiprocessing/popen_fork.py:66: RuntimeWarning: os.fork() was called. os.fork() is incompatible with multithreaded code, and JAX is multithreaded, so this will likely lead to a deadlock.\n",
            "  self.pid = os.fork()\n",
            "100%|██████████| 111/111 [02:51<00:00,  2.56it/s]/usr/lib/python3.10/multiprocessing/popen_fork.py:66: RuntimeWarning: os.fork() was called. os.fork() is incompatible with multithreaded code, and JAX is multithreaded, so this will likely lead to a deadlock.\n",
            "  self.pid = os.fork()\n",
            "100%|██████████| 111/111 [02:51<00:00,  1.54s/it]\n",
            "100%|██████████| 16/16 [00:21<00:00,  1.37s/it]\n"
          ]
        },
        {
          "output_type": "stream",
          "name": "stdout",
          "text": [
            "epoch 0\ttrain loss : 6.58013289683574\tvalidate loss : 5.5371546149253845\n"
          ]
        },
        {
          "output_type": "display_data",
          "data": {
            "text/plain": [
              "<Figure size 640x480 with 0 Axes>"
            ]
          },
          "metadata": {}
        }
      ]
    },
    {
      "cell_type": "markdown",
      "source": [
        "**Figure 5: Loss shrinkage for GNN model**\n",
        "\n",
        "![loss_shrinkage.png](https://drive.google.com/uc?export=view&id=1D3T-qjw5mYLfL8h5X9NwEVT2w3IDtbSI)"
      ],
      "metadata": {
        "id": "sxIp0b-D3Pbk"
      }
    },
    {
      "cell_type": "markdown",
      "source": [
        "## Model Evaluation\n",
        "\n",
        "### Metrics used\n",
        "\n",
        "**Accuracy:** Percent of patients that were correctly classified\n",
        "\n",
        "**Recall:** Precent of positive labels that were classified as true positive\n",
        "\n",
        "**Precision:** Percent of positive predictions that were true positive labels\n",
        "\n",
        "**F1 score:** 2 * recall * precision / (recall + precision)\n",
        "\n",
        "**ROC_AUC:** Area under the ROC curve\n",
        "\n",
        "--\n",
        "\n",
        "The results are summarized under Results.\n",
        "\n",
        "The function test_model is implemented in the [Github](https://github.com/dsgelab/family-EHR-graphs/blob/main/src/main.py#L227)."
      ],
      "metadata": {
        "id": "CJY2QPg3iRho"
      }
    },
    {
      "cell_type": "code",
      "source": [
        "model_path = 'ehr_graph_replica/results_G2/G2_TestDisease_model.pth'\n",
        "results_path = '{}/{}_results.csv'.format(params['outpath'], params['outname'])\n",
        "stats_path = '{}/{}_stats.csv'.format(params['outpath'], params['outname'])\n",
        "model.load_state_dict(torch.load(model_path))\n",
        "\n",
        "# model testing\n",
        "results, metric_results = test_model(model, test_loader, threshold, params)\n",
        "results.to_csv(results_path, index=None)\n",
        "params.update(metric_results)\n",
        "stats = pd.DataFrame({'name':list(params.keys()), 'value':list(params.values())})\n",
        "stats.to_csv(stats_path, index=None)"
      ],
      "metadata": {
        "id": "WV9zPq6Y-QZL",
        "colab": {
          "base_uri": "https://localhost:8080/"
        },
        "outputId": "831792dd-3af6-49e0-edb8-016c3a87f1d0"
      },
      "execution_count": 26,
      "outputs": [
        {
          "output_type": "stream",
          "name": "stderr",
          "text": [
            "\r  0%|          | 0/32 [00:00<?, ?it/s]/usr/local/lib/python3.10/dist-packages/torch/utils/data/dataloader.py:558: UserWarning: This DataLoader will create 6 worker processes in total. Our suggested max number of worker in current system is 2, which is smaller than what this DataLoader is going to create. Please be aware that excessive worker creation might get DataLoader running slow or even freeze, lower the worker number to avoid potential slowness/freeze if necessary.\n",
            "  warnings.warn(_create_warning_msg(\n",
            "/usr/lib/python3.10/multiprocessing/popen_fork.py:66: RuntimeWarning: os.fork() was called. os.fork() is incompatible with multithreaded code, and JAX is multithreaded, so this will likely lead to a deadlock.\n",
            "  self.pid = os.fork()\n",
            "100%|██████████| 32/32 [00:49<00:00,  1.54s/it]\n",
            "100%|██████████| 32/32 [00:51<00:00,  1.60s/it]\n",
            "100%|██████████| 32/32 [00:42<00:00,  1.33s/it]\n"
          ]
        }
      ]
    },
    {
      "cell_type": "markdown",
      "source": [
        "# Results\n",
        "\n",
        "This section summarizes the results of the models we have tested. The main model from the paper is the GNN model with longitudinal data. In addition, we provide results of the other models used for ablation studies, the results of which we load directly."
      ],
      "metadata": {
        "id": "gX6bCcZNuxmz"
      }
    },
    {
      "cell_type": "markdown",
      "source": [
        "## GNN model with longitudinal data (main model)\n",
        "\n",
        "**Test set size:** 7860\n",
        "\n",
        "**Accuracy:** 0.77\n",
        "\n",
        "**Recall:** 0.64\n",
        "\n",
        "**Precision:** 0.28\n",
        "\n",
        "**F1 Score:** 0.388\n",
        "\n",
        "**ROC_AUC:** 0.803\n",
        "\n",
        "--\n",
        "\n",
        "A discussion of these results along with ablation studies is provided under Analysis."
      ],
      "metadata": {
        "id": "8VxsqW51lqOv"
      }
    },
    {
      "cell_type": "code",
      "source": [
        "# load the results directly if we did not run the model in the previous step\n",
        "#results = pd.read_csv('ehr_graph_replica/results_G2/G2_TestDisease_results.csv')\n",
        "#stats = pd.read_csv('ehr_graph_replica/results_A2/G2_TestDisease_stats.csv')\n",
        "\n",
        "y_true = results['actual']\n",
        "y_score = results['pred_raw']\n",
        "y_pred = results['pred_binary']\n",
        "\n",
        "# metrics to evaluate my model\n",
        "result_df = pd.Series()\n",
        "result_df['Accuracy'] = round(metrics.accuracy_score(y_true, y_pred), 3)\n",
        "result_df['Recall'] = round(metrics.recall_score(y_true, y_pred), 3)\n",
        "result_df['Precision'] = round(metrics.precision_score(y_true, y_pred), 3)\n",
        "result_df['F1'] = round(metrics.f1_score(y_true, y_pred), 3)\n",
        "result_df['ROC'] = round(metrics.roc_auc_score(y_true, y_score), 3)\n",
        "\n",
        "result_df"
      ],
      "metadata": {
        "colab": {
          "base_uri": "https://localhost:8080/"
        },
        "id": "4Jppkpn5rXrK",
        "outputId": "97cadf41-4872-4b53-c833-8b76e8055a69"
      },
      "execution_count": 27,
      "outputs": [
        {
          "output_type": "execute_result",
          "data": {
            "text/plain": [
              "Accuracy     0.771\n",
              "Recall       0.638\n",
              "Precision    0.273\n",
              "F1           0.382\n",
              "ROC          0.800\n",
              "dtype: float64"
            ]
          },
          "metadata": {},
          "execution_count": 27
        }
      ]
    },
    {
      "cell_type": "markdown",
      "source": [
        "## Ablation results\n",
        "\n",
        "We conducted the following ablation studies in order to understand the incremental predictive value of family history and graph connectivity features:\n",
        "* Baseline model with age and sex data\n",
        "* Age, sex, and family history MLP\n",
        "* Age, sex, and graph connectivity MLP\n",
        "* GNN with longitudinal data (main model for comparison)"
      ],
      "metadata": {
        "id": "8SWiC-NCmqxC"
      }
    },
    {
      "cell_type": "code",
      "source": [
        "# load the results directly (we trained and ran the model separately)\n",
        "models = [\"A1\", \"A2\", \"A3\", \"G2\"]\n",
        "metric_list = [\"Accuracy\", \"Recall\", \"Precision\", \"F1\", \"ROC\"]\n",
        "columns = [\"Baseline\", \"+Family history\", \"+Graph connectivity\"]\n",
        "model_to_column = {\n",
        "    \"A1\": \"Baseline\",\n",
        "    \"A2\": \"+Family history\",\n",
        "    \"A3\": \"+Graph connectivity\",\n",
        "    \"G2\": \"+Graph embedding\"\n",
        "}\n",
        "result_df = pd.DataFrame(index = metric_list, columns = columns)\n",
        "\n",
        "for m in models:\n",
        "  results = pd.read_csv('ehr_graph_replica/results_{}/{}_TestDisease_results.csv'.format(m, m))\n",
        "  stats = pd.read_csv('ehr_graph_replica/results_{}/{}_TestDisease_stats.csv'.format(m, m))\n",
        "  y_true = results['actual']\n",
        "  y_score = results['pred_raw']\n",
        "  y_pred = results['pred_binary']\n",
        "  col = model_to_column[m]\n",
        "\n",
        "  # metrics to evaluate my model\n",
        "  result_df.loc['Accuracy', col] = round(metrics.accuracy_score(y_true, y_pred), 3)\n",
        "  result_df.loc['Recall', col] = round(metrics.recall_score(y_true, y_pred), 3)\n",
        "  result_df.loc['Precision', col] = round(metrics.precision_score(y_true, y_pred), 3)\n",
        "  result_df.loc['F1', col] = round(metrics.f1_score(y_true, y_pred), 3)\n",
        "  result_df.loc['ROC', col] = round(metrics.roc_auc_score(y_true, y_score), 3)\n",
        "\n",
        "result_df"
      ],
      "metadata": {
        "id": "LjW9bCkouv8O",
        "colab": {
          "base_uri": "https://localhost:8080/",
          "height": 206
        },
        "outputId": "7a5206bc-a7f1-443c-977e-1026a64afe88"
      },
      "execution_count": 28,
      "outputs": [
        {
          "output_type": "execute_result",
          "data": {
            "text/plain": [
              "          Baseline +Family history +Graph connectivity  +Graph embedding\n",
              "Accuracy     0.651           0.734               0.669             0.761\n",
              "Recall       0.505           0.629               0.493             0.649\n",
              "Precision     0.16           0.237               0.166             0.265\n",
              "F1           0.243           0.344               0.249             0.377\n",
              "ROC          0.626           0.768               0.638             0.800"
            ],
            "text/html": [
              "\n",
              "  <div id=\"df-7e9286a5-84d4-4156-a70c-a8b539ffac46\" class=\"colab-df-container\">\n",
              "    <div>\n",
              "<style scoped>\n",
              "    .dataframe tbody tr th:only-of-type {\n",
              "        vertical-align: middle;\n",
              "    }\n",
              "\n",
              "    .dataframe tbody tr th {\n",
              "        vertical-align: top;\n",
              "    }\n",
              "\n",
              "    .dataframe thead th {\n",
              "        text-align: right;\n",
              "    }\n",
              "</style>\n",
              "<table border=\"1\" class=\"dataframe\">\n",
              "  <thead>\n",
              "    <tr style=\"text-align: right;\">\n",
              "      <th></th>\n",
              "      <th>Baseline</th>\n",
              "      <th>+Family history</th>\n",
              "      <th>+Graph connectivity</th>\n",
              "      <th>+Graph embedding</th>\n",
              "    </tr>\n",
              "  </thead>\n",
              "  <tbody>\n",
              "    <tr>\n",
              "      <th>Accuracy</th>\n",
              "      <td>0.651</td>\n",
              "      <td>0.734</td>\n",
              "      <td>0.669</td>\n",
              "      <td>0.761</td>\n",
              "    </tr>\n",
              "    <tr>\n",
              "      <th>Recall</th>\n",
              "      <td>0.505</td>\n",
              "      <td>0.629</td>\n",
              "      <td>0.493</td>\n",
              "      <td>0.649</td>\n",
              "    </tr>\n",
              "    <tr>\n",
              "      <th>Precision</th>\n",
              "      <td>0.16</td>\n",
              "      <td>0.237</td>\n",
              "      <td>0.166</td>\n",
              "      <td>0.265</td>\n",
              "    </tr>\n",
              "    <tr>\n",
              "      <th>F1</th>\n",
              "      <td>0.243</td>\n",
              "      <td>0.344</td>\n",
              "      <td>0.249</td>\n",
              "      <td>0.377</td>\n",
              "    </tr>\n",
              "    <tr>\n",
              "      <th>ROC</th>\n",
              "      <td>0.626</td>\n",
              "      <td>0.768</td>\n",
              "      <td>0.638</td>\n",
              "      <td>0.800</td>\n",
              "    </tr>\n",
              "  </tbody>\n",
              "</table>\n",
              "</div>\n",
              "    <div class=\"colab-df-buttons\">\n",
              "\n",
              "  <div class=\"colab-df-container\">\n",
              "    <button class=\"colab-df-convert\" onclick=\"convertToInteractive('df-7e9286a5-84d4-4156-a70c-a8b539ffac46')\"\n",
              "            title=\"Convert this dataframe to an interactive table.\"\n",
              "            style=\"display:none;\">\n",
              "\n",
              "  <svg xmlns=\"http://www.w3.org/2000/svg\" height=\"24px\" viewBox=\"0 -960 960 960\">\n",
              "    <path d=\"M120-120v-720h720v720H120Zm60-500h600v-160H180v160Zm220 220h160v-160H400v160Zm0 220h160v-160H400v160ZM180-400h160v-160H180v160Zm440 0h160v-160H620v160ZM180-180h160v-160H180v160Zm440 0h160v-160H620v160Z\"/>\n",
              "  </svg>\n",
              "    </button>\n",
              "\n",
              "  <style>\n",
              "    .colab-df-container {\n",
              "      display:flex;\n",
              "      gap: 12px;\n",
              "    }\n",
              "\n",
              "    .colab-df-convert {\n",
              "      background-color: #E8F0FE;\n",
              "      border: none;\n",
              "      border-radius: 50%;\n",
              "      cursor: pointer;\n",
              "      display: none;\n",
              "      fill: #1967D2;\n",
              "      height: 32px;\n",
              "      padding: 0 0 0 0;\n",
              "      width: 32px;\n",
              "    }\n",
              "\n",
              "    .colab-df-convert:hover {\n",
              "      background-color: #E2EBFA;\n",
              "      box-shadow: 0px 1px 2px rgba(60, 64, 67, 0.3), 0px 1px 3px 1px rgba(60, 64, 67, 0.15);\n",
              "      fill: #174EA6;\n",
              "    }\n",
              "\n",
              "    .colab-df-buttons div {\n",
              "      margin-bottom: 4px;\n",
              "    }\n",
              "\n",
              "    [theme=dark] .colab-df-convert {\n",
              "      background-color: #3B4455;\n",
              "      fill: #D2E3FC;\n",
              "    }\n",
              "\n",
              "    [theme=dark] .colab-df-convert:hover {\n",
              "      background-color: #434B5C;\n",
              "      box-shadow: 0px 1px 3px 1px rgba(0, 0, 0, 0.15);\n",
              "      filter: drop-shadow(0px 1px 2px rgba(0, 0, 0, 0.3));\n",
              "      fill: #FFFFFF;\n",
              "    }\n",
              "  </style>\n",
              "\n",
              "    <script>\n",
              "      const buttonEl =\n",
              "        document.querySelector('#df-7e9286a5-84d4-4156-a70c-a8b539ffac46 button.colab-df-convert');\n",
              "      buttonEl.style.display =\n",
              "        google.colab.kernel.accessAllowed ? 'block' : 'none';\n",
              "\n",
              "      async function convertToInteractive(key) {\n",
              "        const element = document.querySelector('#df-7e9286a5-84d4-4156-a70c-a8b539ffac46');\n",
              "        const dataTable =\n",
              "          await google.colab.kernel.invokeFunction('convertToInteractive',\n",
              "                                                    [key], {});\n",
              "        if (!dataTable) return;\n",
              "\n",
              "        const docLinkHtml = 'Like what you see? Visit the ' +\n",
              "          '<a target=\"_blank\" href=https://colab.research.google.com/notebooks/data_table.ipynb>data table notebook</a>'\n",
              "          + ' to learn more about interactive tables.';\n",
              "        element.innerHTML = '';\n",
              "        dataTable['output_type'] = 'display_data';\n",
              "        await google.colab.output.renderOutput(dataTable, element);\n",
              "        const docLink = document.createElement('div');\n",
              "        docLink.innerHTML = docLinkHtml;\n",
              "        element.appendChild(docLink);\n",
              "      }\n",
              "    </script>\n",
              "  </div>\n",
              "\n",
              "\n",
              "<div id=\"df-c415210a-6f7d-4cca-a401-08e654f8dfcd\">\n",
              "  <button class=\"colab-df-quickchart\" onclick=\"quickchart('df-c415210a-6f7d-4cca-a401-08e654f8dfcd')\"\n",
              "            title=\"Suggest charts\"\n",
              "            style=\"display:none;\">\n",
              "\n",
              "<svg xmlns=\"http://www.w3.org/2000/svg\" height=\"24px\"viewBox=\"0 0 24 24\"\n",
              "     width=\"24px\">\n",
              "    <g>\n",
              "        <path d=\"M19 3H5c-1.1 0-2 .9-2 2v14c0 1.1.9 2 2 2h14c1.1 0 2-.9 2-2V5c0-1.1-.9-2-2-2zM9 17H7v-7h2v7zm4 0h-2V7h2v10zm4 0h-2v-4h2v4z\"/>\n",
              "    </g>\n",
              "</svg>\n",
              "  </button>\n",
              "\n",
              "<style>\n",
              "  .colab-df-quickchart {\n",
              "      --bg-color: #E8F0FE;\n",
              "      --fill-color: #1967D2;\n",
              "      --hover-bg-color: #E2EBFA;\n",
              "      --hover-fill-color: #174EA6;\n",
              "      --disabled-fill-color: #AAA;\n",
              "      --disabled-bg-color: #DDD;\n",
              "  }\n",
              "\n",
              "  [theme=dark] .colab-df-quickchart {\n",
              "      --bg-color: #3B4455;\n",
              "      --fill-color: #D2E3FC;\n",
              "      --hover-bg-color: #434B5C;\n",
              "      --hover-fill-color: #FFFFFF;\n",
              "      --disabled-bg-color: #3B4455;\n",
              "      --disabled-fill-color: #666;\n",
              "  }\n",
              "\n",
              "  .colab-df-quickchart {\n",
              "    background-color: var(--bg-color);\n",
              "    border: none;\n",
              "    border-radius: 50%;\n",
              "    cursor: pointer;\n",
              "    display: none;\n",
              "    fill: var(--fill-color);\n",
              "    height: 32px;\n",
              "    padding: 0;\n",
              "    width: 32px;\n",
              "  }\n",
              "\n",
              "  .colab-df-quickchart:hover {\n",
              "    background-color: var(--hover-bg-color);\n",
              "    box-shadow: 0 1px 2px rgba(60, 64, 67, 0.3), 0 1px 3px 1px rgba(60, 64, 67, 0.15);\n",
              "    fill: var(--button-hover-fill-color);\n",
              "  }\n",
              "\n",
              "  .colab-df-quickchart-complete:disabled,\n",
              "  .colab-df-quickchart-complete:disabled:hover {\n",
              "    background-color: var(--disabled-bg-color);\n",
              "    fill: var(--disabled-fill-color);\n",
              "    box-shadow: none;\n",
              "  }\n",
              "\n",
              "  .colab-df-spinner {\n",
              "    border: 2px solid var(--fill-color);\n",
              "    border-color: transparent;\n",
              "    border-bottom-color: var(--fill-color);\n",
              "    animation:\n",
              "      spin 1s steps(1) infinite;\n",
              "  }\n",
              "\n",
              "  @keyframes spin {\n",
              "    0% {\n",
              "      border-color: transparent;\n",
              "      border-bottom-color: var(--fill-color);\n",
              "      border-left-color: var(--fill-color);\n",
              "    }\n",
              "    20% {\n",
              "      border-color: transparent;\n",
              "      border-left-color: var(--fill-color);\n",
              "      border-top-color: var(--fill-color);\n",
              "    }\n",
              "    30% {\n",
              "      border-color: transparent;\n",
              "      border-left-color: var(--fill-color);\n",
              "      border-top-color: var(--fill-color);\n",
              "      border-right-color: var(--fill-color);\n",
              "    }\n",
              "    40% {\n",
              "      border-color: transparent;\n",
              "      border-right-color: var(--fill-color);\n",
              "      border-top-color: var(--fill-color);\n",
              "    }\n",
              "    60% {\n",
              "      border-color: transparent;\n",
              "      border-right-color: var(--fill-color);\n",
              "    }\n",
              "    80% {\n",
              "      border-color: transparent;\n",
              "      border-right-color: var(--fill-color);\n",
              "      border-bottom-color: var(--fill-color);\n",
              "    }\n",
              "    90% {\n",
              "      border-color: transparent;\n",
              "      border-bottom-color: var(--fill-color);\n",
              "    }\n",
              "  }\n",
              "</style>\n",
              "\n",
              "  <script>\n",
              "    async function quickchart(key) {\n",
              "      const quickchartButtonEl =\n",
              "        document.querySelector('#' + key + ' button');\n",
              "      quickchartButtonEl.disabled = true;  // To prevent multiple clicks.\n",
              "      quickchartButtonEl.classList.add('colab-df-spinner');\n",
              "      try {\n",
              "        const charts = await google.colab.kernel.invokeFunction(\n",
              "            'suggestCharts', [key], {});\n",
              "      } catch (error) {\n",
              "        console.error('Error during call to suggestCharts:', error);\n",
              "      }\n",
              "      quickchartButtonEl.classList.remove('colab-df-spinner');\n",
              "      quickchartButtonEl.classList.add('colab-df-quickchart-complete');\n",
              "    }\n",
              "    (() => {\n",
              "      let quickchartButtonEl =\n",
              "        document.querySelector('#df-c415210a-6f7d-4cca-a401-08e654f8dfcd button');\n",
              "      quickchartButtonEl.style.display =\n",
              "        google.colab.kernel.accessAllowed ? 'block' : 'none';\n",
              "    })();\n",
              "  </script>\n",
              "</div>\n",
              "    </div>\n",
              "  </div>\n"
            ],
            "application/vnd.google.colaboratory.intrinsic+json": {
              "type": "dataframe",
              "variable_name": "result_df",
              "summary": "{\n  \"name\": \"result_df\",\n  \"rows\": 5,\n  \"fields\": [\n    {\n      \"column\": \"Baseline\",\n      \"properties\": {\n        \"dtype\": \"date\",\n        \"min\": 0.16,\n        \"max\": 0.651,\n        \"num_unique_values\": 5,\n        \"samples\": [\n          0.505,\n          0.626,\n          0.16\n        ],\n        \"semantic_type\": \"\",\n        \"description\": \"\"\n      }\n    },\n    {\n      \"column\": \"+Family history\",\n      \"properties\": {\n        \"dtype\": \"date\",\n        \"min\": 0.237,\n        \"max\": 0.768,\n        \"num_unique_values\": 5,\n        \"samples\": [\n          0.629,\n          0.768,\n          0.237\n        ],\n        \"semantic_type\": \"\",\n        \"description\": \"\"\n      }\n    },\n    {\n      \"column\": \"+Graph connectivity\",\n      \"properties\": {\n        \"dtype\": \"date\",\n        \"min\": 0.166,\n        \"max\": 0.669,\n        \"num_unique_values\": 5,\n        \"samples\": [\n          0.493,\n          0.638,\n          0.166\n        ],\n        \"semantic_type\": \"\",\n        \"description\": \"\"\n      }\n    },\n    {\n      \"column\": \"+Graph embedding\",\n      \"properties\": {\n        \"dtype\": \"number\",\n        \"std\": 0.23764216797529852,\n        \"min\": 0.265,\n        \"max\": 0.8,\n        \"num_unique_values\": 5,\n        \"samples\": [\n          0.649,\n          0.8,\n          0.265\n        ],\n        \"semantic_type\": \"\",\n        \"description\": \"\"\n      }\n    }\n  ]\n}"
            }
          },
          "metadata": {},
          "execution_count": 28
        }
      ]
    },
    {
      "cell_type": "code",
      "source": [
        "result_df.plot()\n",
        "plt.title(\"Figure 6: Metrics for the different models in the study\")"
      ],
      "metadata": {
        "colab": {
          "base_uri": "https://localhost:8080/",
          "height": 469
        },
        "id": "3fUeEFwg1zIr",
        "outputId": "d867f7a7-bd37-4083-d282-002e2a11cbc3"
      },
      "execution_count": 29,
      "outputs": [
        {
          "output_type": "execute_result",
          "data": {
            "text/plain": [
              "Text(0.5, 1.0, 'Figure 6: Metrics for the different models in the study')"
            ]
          },
          "metadata": {},
          "execution_count": 29
        },
        {
          "output_type": "display_data",
          "data": {
            "text/plain": [
              "<Figure size 640x480 with 1 Axes>"
            ],
            "image/png": "[encoded data removed]"
          },
          "metadata": {}
        }
      ]
    },
    {
      "cell_type": "markdown",
      "source": [
        "## Analysis\n",
        "\n",
        "The two main hypotheses made in this experiment were:\n",
        "\n",
        "1.   Hypothesis 1: The graph neural network based model provides better performance in predicting 10 year disease onset compared to the baseline MLP model.\n",
        "2.   Hypothesis 2: Features for family history provide incremental predictive value when use in a graph neural network to classify a patient’s development of disease.\n",
        "\n",
        "The results suggest that the Graph-based model with longitudinal data outperforms non graph-based models when making predictions on the synthetic dataset. They also suggset that family history plays a significant role in the prediction of the disease, since models that included family history performed significantly better. Therefore, we think the results support the original hypotheses.\n",
        "\n",
        "Further experiments could explore different combinations of features or look into how the models perform on datasets with different characteristics like heritability to see if the pattern continues to hold.\n",
        "\n",
        "A comparison of the model performance for the replicated experiment versus those of the original paper is shown below.\n",
        "\n",
        "--\n",
        "\n",
        "**Results of models in the paper for predicting coronary heart disease (AUC-ROC):**\n",
        "\n",
        "Baseline model with age and sex data: 0.696\n",
        "\n",
        "Age, sex and family history MLP: 0.710\n",
        "\n",
        "Age, sex and graph connectivity MLP: 0.696\n",
        "\n",
        "GNN model with longitudinal data: 0.775\n",
        "\n",
        "**Results of models in replicated experiment for predicting on synthetic dataset (AUC-ROC):**\n",
        "\n",
        "Baseline model with age and sex data: 0.626\n",
        "\n",
        "Age, sex and family history MLP: 0.768\n",
        "\n",
        "Age, sex and graph connectivity MLP: 0.638\n",
        "\n",
        "GNN model with longitudinal data: 0.803"
      ],
      "metadata": {
        "id": "WA5XLrPd6NdB"
      }
    },
    {
      "cell_type": "markdown",
      "source": [
        "# Discussion\n",
        "\n",
        "Based on the experiment, we were able to reproduce two of the major findings in the paper, which were 1) that graph based representation learning based on family history provides better preditive value over non-graph based models, and 2) family history is a significant factor in how well the model performs, since all models that included family history performed significantly better than those that did not.\n",
        "\n",
        "Of course, we should note the caveat that this was using synthetic data instead of the real dataset, which may yield different results. This is probably the major contributing gap between the original results and the replicated results.\n",
        "\n",
        "The easy part was that most of the code for producing the data and training the models was available in the Github, making it relatively easy for someone to run similar code in their own environment. The difficult part is that it's not easy to compare the results of the new dataset with those of the original dataset, due to their different sources.\n",
        "\n",
        "The authors might consider going into detail about some methods that use less sensitive data that can be accessed more widely, even though it is not optimal, so that follow-up experiments can compared using the same datasets."
      ],
      "metadata": {
        "id": "qH75TNU71eRH"
      }
    },
    {
      "cell_type": "markdown",
      "source": [
        "# Public Github Repo and Presentation\n",
        "\n",
        "[Link to Github with notebook](https://github.com/cosmocat27/ehr_graph_replica/tree/main)\n",
        "\n",
        "[Link to presentation video](https://mediaspace.illinois.edu/media/t/1_0alp2wex)"
      ],
      "metadata": {
        "id": "8IAxrBGW7BRz"
      }
    },
    {
      "cell_type": "markdown",
      "source": [
        "# References\n",
        "\n",
        "1.   Sophie Wharrie, Zhiyu Yang, Andrea Ganna, Samuel Kaski. (2023). Characterizing personalized\n",
        "effects of family information on disease risk using graph representation learning. Proceedings of\n",
        "the 8th Machine Learning for Healthcare Conference, in Proceedings of Machine Learning\n",
        "Research. 219:824-845. Available from https://arxiv.org/abs/2304.05010."
      ],
      "metadata": {
        "id": "SHMI2chl9omn"
      }
    }
  ]
}